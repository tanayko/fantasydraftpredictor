{
 "cells": [
  {
   "cell_type": "markdown",
   "metadata": {},
   "source": [
    "have a `./.env` file with MODEL_NAME, API_KEY, BASE_URL configs"
   ]
  },
  {
   "cell_type": "code",
   "execution_count": null,
   "metadata": {},
   "outputs": [],
   "source": [
    "from autogen import AssistantAgent, UserProxyAgent\n",
    "import os\n",
    "from dotenv import load_dotenv"
   ]
  },
  {
   "cell_type": "code",
   "execution_count": 10,
   "metadata": {},
   "outputs": [
    {
     "data": {
      "text/plain": [
       "True"
      ]
     },
     "execution_count": 10,
     "metadata": {},
     "output_type": "execute_result"
    }
   ],
   "source": [
    "load_dotenv()"
   ]
  },
  {
   "cell_type": "code",
   "execution_count": 11,
   "metadata": {},
   "outputs": [
    {
     "name": "stdout",
     "output_type": "stream",
     "text": [
      "llama3p1-8b-instruct\n"
     ]
    }
   ],
   "source": [
    "print(os.getenv(\"MODEL_NAME\"))\n",
    "\n",
    "# Load environment variables from .env file\n",
    "\n",
    "config_list = [\n",
    "    {\n",
    "        \"model\": os.getenv('MODEL_NAME'),  # The model name used by your API\n",
    "        \"base_url\": os.getenv('BASE_URL'),  # Your base URL with API version path\n",
    "        \"api_key\": os.getenv('API_KEY'),  # Your API key (if required)\n",
    "    }\n",
    "]"
   ]
  },
  {
   "cell_type": "code",
   "execution_count": 12,
   "metadata": {},
   "outputs": [],
   "source": [
    "assistant = AssistantAgent(\n",
    "    name=\"Assistant\",\n",
    "    llm_config={\n",
    "        \"config_list\": config_list,\n",
    "        \"temperature\": 0.7,\n",
    "    }\n",
    ")"
   ]
  },
  {
   "cell_type": "code",
   "execution_count": 13,
   "metadata": {},
   "outputs": [],
   "source": [
    "user_proxy = UserProxyAgent(\n",
    "    name=\"User\",\n",
    "    human_input_mode=\"TERMINATE\",  # Will only ask for human input when conversation terminates\n",
    "    max_consecutive_auto_reply=10,  # Limits the number of consecutive auto-replies\n",
    "    code_execution_config={\"work_dir\": \"coding\", \"use_docker\": False},  # Simple code execution setup\n",
    ")"
   ]
  },
  {
   "cell_type": "code",
   "execution_count": null,
   "metadata": {},
   "outputs": [],
   "source": [
    "user_proxy.initiate_chat(\n",
    "    assistant,\n",
    "    message=\"Write a Python function to find the nth Fibonacci number and test it with n=10.\"\n",
    ")"
   ]
  }
 ],
 "metadata": {
  "kernelspec": {
   "display_name": ".venv",
   "language": "python",
   "name": "python3"
  },
  "language_info": {
   "codemirror_mode": {
    "name": "ipython",
    "version": 3
   },
   "file_extension": ".py",
   "mimetype": "text/x-python",
   "name": "python",
   "nbconvert_exporter": "python",
   "pygments_lexer": "ipython3",
   "version": "3.11.2"
  }
 },
 "nbformat": 4,
 "nbformat_minor": 2
}
